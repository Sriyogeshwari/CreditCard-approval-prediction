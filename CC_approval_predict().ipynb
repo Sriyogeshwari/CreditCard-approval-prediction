{
  "nbformat": 4,
  "nbformat_minor": 0,
  "metadata": {
    "colab": {
      "provenance": []
    },
    "kernelspec": {
      "name": "python3",
      "display_name": "Python 3"
    },
    "language_info": {
      "name": "python"
    }
  },
  "cells": [
    {
      "cell_type": "code",
      "execution_count": 9,
      "metadata": {
        "id": "oDxquwSBIOEt"
      },
      "outputs": [],
      "source": [
        "#Import Libraries\n",
        "import pandas as pd\n",
        "import numpy as np\n",
        "import joblib\n",
        "from sklearn.model_selection import train_test_split\n",
        "from sklearn.preprocessing import StandardScaler, LabelEncoder\n",
        "from sklearn.ensemble import RandomForestClassifier\n",
        "from sklearn.metrics import accuracy_score, classification_report\n"
      ]
    },
    {
      "cell_type": "code",
      "source": [
        "#Load and Explore the Dataset\n",
        "data = {\n",
        "    \"Age\": np.random.randint(20, 70, 500),\n",
        "    \"Income\": np.random.randint(20000, 100000, 500),\n",
        "    \"Credit_Score\": np.random.randint(300, 850, 500),\n",
        "    \"Employment_Status\": np.random.choice([0, 1, 2], 500),  # 0 = Unemployed, 1 = Employed, 2 = Self-Employed\n",
        "    \"Loan_Amount\": np.random.randint(5000, 50000, 500),\n",
        "    \"Debt\": np.random.randint(1000, 20000, 500),\n",
        "    \"Approval_Status\": np.random.choice([0, 1], 500)  # 0 = Rejected, 1 = Approved\n",
        "}\n",
        "df = pd.DataFrame(data)\n",
        "df.to_csv(\"credit_card_approval.csv\", index=False)\n",
        "print(\"Dataset saved successfully!\")\n",
        "df = pd.read_csv(\"credit_card_approval.csv\")\n",
        "print(df.head())"
      ],
      "metadata": {
        "colab": {
          "base_uri": "https://localhost:8080/"
        },
        "id": "7ey6n6lCJ6Mi",
        "outputId": "68cbd494-3417-42e6-e6d0-301f8b64c5ce"
      },
      "execution_count": 10,
      "outputs": [
        {
          "output_type": "stream",
          "name": "stdout",
          "text": [
            "Dataset saved successfully!\n",
            "   Age  Income  Credit_Score  Employment_Status  Loan_Amount   Debt  \\\n",
            "0   58   67674           401                  0        41288   9914   \n",
            "1   65   81217           558                  0         5885  12975   \n",
            "2   62   86465           656                  2        45616  17720   \n",
            "3   24   37203           560                  2        43163   8848   \n",
            "4   21   37196           456                  2        47210  15718   \n",
            "\n",
            "   Approval_Status  \n",
            "0                1  \n",
            "1                1  \n",
            "2                0  \n",
            "3                0  \n",
            "4                1  \n"
          ]
        }
      ]
    },
    {
      "cell_type": "code",
      "source": [
        "#Data Preprocessing\n",
        "print(df.isnull().sum())\n",
        "df.fillna(df.median(), inplace=True)\n",
        "label_encoder = LabelEncoder()\n",
        "for column in df.select_dtypes(include=['object']).columns:\n",
        "  df[column] = label_encoder.fit_transform(df[column])\n",
        "X = df.drop(\"Approval_Status\", axis=1)\n",
        "y = df[\"Approval_Status\"]\n",
        "X_train, X_test, y_train, y_test = train_test_split(X, y, test_size=0.2, random_state=42)\n",
        "scaler = StandardScaler()\n",
        "X_train = scaler.fit_transform(X_train)\n",
        "X_test = scaler.transform(X_test)"
      ],
      "metadata": {
        "colab": {
          "base_uri": "https://localhost:8080/"
        },
        "id": "ZImT0W8uJ9lb",
        "outputId": "a5e3deee-16d1-4c55-80a9-b97301f0df07"
      },
      "execution_count": 11,
      "outputs": [
        {
          "output_type": "stream",
          "name": "stdout",
          "text": [
            "Age                  0\n",
            "Income               0\n",
            "Credit_Score         0\n",
            "Employment_Status    0\n",
            "Loan_Amount          0\n",
            "Debt                 0\n",
            "Approval_Status      0\n",
            "dtype: int64\n"
          ]
        }
      ]
    },
    {
      "cell_type": "code",
      "source": [
        "# Train Machine Learning Model\n",
        "model = RandomForestClassifier(random_state=42)\n",
        "model.fit(X_train, y_train)\n",
        "y_pred = model.predict(X_test)\n",
        "print(\"Model Accuracy:\", accuracy_score(y_test, y_pred))\n",
        "print(\"Classification Report:\\n\", classification_report(y_test, y_pred))"
      ],
      "metadata": {
        "colab": {
          "base_uri": "https://localhost:8080/"
        },
        "id": "_nHNLFeNKA_9",
        "outputId": "d6ef241f-9ef4-4653-9c11-22faf70e7977"
      },
      "execution_count": 12,
      "outputs": [
        {
          "output_type": "stream",
          "name": "stdout",
          "text": [
            "Model Accuracy: 0.5\n",
            "Classification Report:\n",
            "               precision    recall  f1-score   support\n",
            "\n",
            "           0       0.52      0.52      0.52        52\n",
            "           1       0.48      0.48      0.48        48\n",
            "\n",
            "    accuracy                           0.50       100\n",
            "   macro avg       0.50      0.50      0.50       100\n",
            "weighted avg       0.50      0.50      0.50       100\n",
            "\n"
          ]
        }
      ]
    },
    {
      "cell_type": "code",
      "source": [
        "# Save the Model\n",
        "joblib.dump(model, \"credit_card_approval_model.pkl\")\n",
        "joblib.dump(scaler, \"scaler.pkl\")\n",
        "print(\"Model and scaler saved successfully!\")"
      ],
      "metadata": {
        "colab": {
          "base_uri": "https://localhost:8080/"
        },
        "id": "_dWP8LGJKFEq",
        "outputId": "4517ae9b-466a-4160-95f8-3d21359036b2"
      },
      "execution_count": 13,
      "outputs": [
        {
          "output_type": "stream",
          "name": "stdout",
          "text": [
            "Model and scaler saved successfully!\n"
          ]
        }
      ]
    },
    {
      "cell_type": "code",
      "source": [
        "# Load the Model and Make Predictions\n",
        "model = joblib.load(\"credit_card_approval_model.pkl\")\n",
        "scaler = joblib.load(\"scaler.pkl\")\n",
        "print(\"Enter the following details to check credit card approval:\")\n",
        "age = int(input(\"Enter Age: \"))\n",
        "income = float(input(\"Enter Monthly Income ($): \"))\n",
        "credit_score = float(input(\"Enter Credit Score (300-850): \"))\n",
        "employment_status = int(input(\"Employment Status (0 = Unemployed, 1 = Employed, 2 = Self-Employed): \"))\n",
        "loan_amount = float(input(\"Enter Loan Amount ($): \"))\n",
        "debt = float(input(\"Enter Current Debt ($): \"))\n",
        "user_data = np.array([[age, income, credit_score, employment_status, loan_amount, debt]])\n",
        "user_data_scaled = scaler.transform(user_data)\n",
        "prediction = model.predict(user_data_scaled)\n",
        "if prediction[0] == 1:\n",
        "    print(\"\\n \tCongratulations! \tYour \tcredit \tcard \tapplication \tis **Approved**.\")\n",
        "else:\n",
        "    print(\"\\n Sorry, your credit card application is **Rejected**.\")"
      ],
      "metadata": {
        "colab": {
          "base_uri": "https://localhost:8080/"
        },
        "id": "fQqGhZDmKLJZ",
        "outputId": "505e0ffc-984f-4675-8fc3-f8b00011296f"
      },
      "execution_count": 15,
      "outputs": [
        {
          "output_type": "stream",
          "name": "stdout",
          "text": [
            "Enter the following details to check credit card approval:\n",
            "Enter Age: 25\n",
            "Enter Monthly Income ($): 45000\n",
            "Enter Credit Score (300-850): 328\n",
            "Employment Status (0 = Unemployed, 1 = Employed, 2 = Self-Employed): 1\n",
            "Enter Loan Amount ($): 400000\n",
            "Enter Current Debt ($): 50000\n",
            "\n",
            " Sorry, your credit card application is **Rejected**.\n"
          ]
        },
        {
          "output_type": "stream",
          "name": "stderr",
          "text": [
            "/usr/local/lib/python3.11/dist-packages/sklearn/utils/validation.py:2739: UserWarning: X does not have valid feature names, but StandardScaler was fitted with feature names\n",
            "  warnings.warn(\n"
          ]
        }
      ]
    }
  ]
}